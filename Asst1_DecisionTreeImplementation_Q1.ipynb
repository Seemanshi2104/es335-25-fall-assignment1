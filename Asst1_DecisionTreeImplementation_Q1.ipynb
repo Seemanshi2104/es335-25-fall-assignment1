{
 "cells": [
  {
   "cell_type": "markdown",
   "id": "63e0d5c4",
   "metadata": {},
   "source": [
    "Decision Tree Implementation  \n",
    "Q1 Complete the decision tree implementation \n",
    "\n",
    "Solution:  \n",
    "We have successfully implemented the Decision Tree in tree/base.py as per the assignment requirements.\n",
    "\n",
    "Our implementation supports all four required cases:\n",
    "\n",
    "Discrete features → Discrete output  \n",
    "Discrete features → Real output  \n",
    "Real features → Discrete output  \n",
    "Real features → Real output\n",
    "\n",
    "Completed Files\n",
    "tree/base.py → Contains the fully implemented DecisionTree class.  \n",
    "tree/utils.py → Provides utility functions required for building and evaluating the tree.  \n",
    "metrics.py → Implements all the necessary performance metric functions (accuracy, precision, recall, MAE, RMSE).\n",
    "\n",
    "Features  \n",
    "The decision tree structure is displayed in a properly formatted text-based representation, as specified in tree/base.py.\n",
    "\n",
    "To check our decision tree implementation, we run the usage.py file that has test cases for all four cases."
   ]
  },
  {
   "cell_type": "code",
   "execution_count": 4,
   "id": "931eb2e8",
   "metadata": {},
   "outputs": [
    {
     "name": "stdout",
     "output_type": "stream",
     "text": [
      "Real Input and Real Output\n"
     ]
    },
    {
     "ename": "TypeError",
     "evalue": "'>' not supported between instances of 'tuple' and 'float'",
     "output_type": "error",
     "traceback": [
      "\u001b[31m---------------------------------------------------------------------------\u001b[39m",
      "\u001b[31mTypeError\u001b[39m                                 Traceback (most recent call last)",
      "\u001b[36mFile \u001b[39m\u001b[32m~\\OneDrive\\Documents\\GitHub\\es335-25-fall-assignment1\\usage.py:28\u001b[39m\n\u001b[32m     26\u001b[39m \u001b[38;5;28;01mfor\u001b[39;00m criteria \u001b[38;5;129;01min\u001b[39;00m [\u001b[33m\"\u001b[39m\u001b[33mmse\u001b[39m\u001b[33m\"\u001b[39m]:\n\u001b[32m     27\u001b[39m     tree = DecisionTree(criterion=criteria)  \u001b[38;5;66;03m# Split based on Inf. Gain\u001b[39;00m\n\u001b[32m---> \u001b[39m\u001b[32m28\u001b[39m     \u001b[43mtree\u001b[49m\u001b[43m.\u001b[49m\u001b[43mfit\u001b[49m\u001b[43m(\u001b[49m\u001b[43mX\u001b[49m\u001b[43m,\u001b[49m\u001b[43m \u001b[49m\u001b[43my\u001b[49m\u001b[43m)\u001b[49m\n\u001b[32m     29\u001b[39m     y_hat = tree.predict(X)\n\u001b[32m     30\u001b[39m     tree.plot()\n",
      "\u001b[36mFile \u001b[39m\u001b[32m~\\OneDrive\\Documents\\GitHub\\es335-25-fall-assignment1\\tree\\base.py:157\u001b[39m, in \u001b[36mDecisionTree.fit\u001b[39m\u001b[34m(self, X, y)\u001b[39m\n\u001b[32m    155\u001b[39m \u001b[38;5;66;03m# If you wish your code can have cases for different types of input and output data (discrete, real)\u001b[39;00m\n\u001b[32m    156\u001b[39m \u001b[38;5;28mself\u001b[39m.root.add_samples(X, y)\n\u001b[32m--> \u001b[39m\u001b[32m157\u001b[39m \u001b[38;5;28;43mself\u001b[39;49m\u001b[43m.\u001b[49m\u001b[43mroot\u001b[49m\u001b[43m.\u001b[49m\u001b[43msplit\u001b[49m\u001b[43m(\u001b[49m\u001b[38;5;28;43mself\u001b[39;49m\u001b[43m.\u001b[49m\u001b[43mmax_depth\u001b[49m\u001b[43m,\u001b[49m\u001b[43m \u001b[49m\u001b[38;5;28;43mself\u001b[39;49m\u001b[43m.\u001b[49m\u001b[43meps\u001b[49m\u001b[43m)\u001b[49m\n",
      "\u001b[36mFile \u001b[39m\u001b[32m~\\OneDrive\\Documents\\GitHub\\es335-25-fall-assignment1\\tree\\base.py:61\u001b[39m, in \u001b[36mNode.split\u001b[39m\u001b[34m(self, max_depth, eps)\u001b[39m\n\u001b[32m     59\u001b[39m \u001b[38;5;66;03m# --- Find optimal split attribute ---\u001b[39;00m\n\u001b[32m     60\u001b[39m features = \u001b[38;5;28mself\u001b[39m.samples_x.columns\n\u001b[32m---> \u001b[39m\u001b[32m61\u001b[39m best_attr, best_gain = \u001b[43mopt_split_attribute\u001b[49m\u001b[43m(\u001b[49m\u001b[38;5;28;43mself\u001b[39;49m\u001b[43m.\u001b[49m\u001b[43msamples_x\u001b[49m\u001b[43m,\u001b[49m\u001b[43m \u001b[49m\u001b[38;5;28;43mself\u001b[39;49m\u001b[43m.\u001b[49m\u001b[43msamples_y\u001b[49m\u001b[43m,\u001b[49m\u001b[43m \u001b[49m\u001b[38;5;28;43mself\u001b[39;49m\u001b[43m.\u001b[49m\u001b[43mcriterion\u001b[49m\u001b[43m,\u001b[49m\u001b[43m \u001b[49m\u001b[43mfeatures\u001b[49m\u001b[43m)\u001b[49m\n\u001b[32m     63\u001b[39m \u001b[38;5;28;01mif\u001b[39;00m best_attr \u001b[38;5;129;01mis\u001b[39;00m \u001b[38;5;28;01mNone\u001b[39;00m \u001b[38;5;129;01mor\u001b[39;00m best_gain <= \u001b[32m0\u001b[39m:\n\u001b[32m     64\u001b[39m     \u001b[38;5;28;01mreturn\u001b[39;00m\n",
      "\u001b[36mFile \u001b[39m\u001b[32m~\\OneDrive\\Documents\\GitHub\\es335-25-fall-assignment1\\tree\\utils.py:134\u001b[39m, in \u001b[36mopt_split_attribute\u001b[39m\u001b[34m(X, y, criterion, features)\u001b[39m\n\u001b[32m    132\u001b[39m \u001b[38;5;28;01mfor\u001b[39;00m feature \u001b[38;5;129;01min\u001b[39;00m features:\n\u001b[32m    133\u001b[39m     current_information_gain = information_gain(y, X[feature], criterion)\n\u001b[32m--> \u001b[39m\u001b[32m134\u001b[39m     \u001b[38;5;28;01mif\u001b[39;00m \u001b[43mcurrent_information_gain\u001b[49m\u001b[43m \u001b[49m\u001b[43m>\u001b[49m\u001b[43m \u001b[49m\u001b[43mbest_information_gain\u001b[49m:\n\u001b[32m    135\u001b[39m         best_information_gain = current_information_gain\n\u001b[32m    136\u001b[39m         best_attr = feature\n",
      "\u001b[31mTypeError\u001b[39m: '>' not supported between instances of 'tuple' and 'float'"
     ]
    }
   ],
   "source": [
    "%run usage.py"
   ]
  }
 ],
 "metadata": {
  "kernelspec": {
   "display_name": "Python 3",
   "language": "python",
   "name": "python3"
  },
  "language_info": {
   "codemirror_mode": {
    "name": "ipython",
    "version": 3
   },
   "file_extension": ".py",
   "mimetype": "text/x-python",
   "name": "python",
   "nbconvert_exporter": "python",
   "pygments_lexer": "ipython3",
   "version": "3.11.5"
  }
 },
 "nbformat": 4,
 "nbformat_minor": 5
}
